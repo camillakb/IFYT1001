{
 "cells": [
  {
   "cell_type": "code",
   "execution_count": 2,
   "metadata": {},
   "outputs": [],
   "source": [
    "import numpy as np\n",
    "import matplotlib.pyplot as plt\n",
    "import scipy.optimize as opt"
   ]
  },
  {
   "cell_type": "code",
   "execution_count": 3,
   "metadata": {},
   "outputs": [],
   "source": [
    "# Akselerasjon som fuksjon av tiden.\n",
    "def a(t):\n",
    "    g=-9.81 # m/s**2\n",
    "    return np.array([0,g])\n",
    "\n",
    "# vektorfunksjon som definerer farten som funksjon av tiden\n",
    "def v(t,v0):\n",
    "    return v0+a(t)*t\n",
    "\n",
    "# funksjon som definerer posisjonen r som funksjon av tiden\n",
    "def r(t,r0,v0):\n",
    "    return r0+v0*t+0.5*a(t)*t**2"
   ]
  },
  {
   "attachments": {},
   "cell_type": "markdown",
   "metadata": {},
   "source": [
    "## Oppgave 4a)"
   ]
  },
  {
   "cell_type": "code",
   "execution_count": 4,
   "metadata": {},
   "outputs": [
    {
     "name": "stdout",
     "output_type": "stream",
     "text": [
      "Antall sekunder det tar før stuperen treffer vannet: 1.35\n",
      "Da må stuperen ha en fart på minst 1.75 m / 1.35 som blir 1.29\n"
     ]
    }
   ],
   "source": [
    "r0 = np.array([0, 9])\n",
    "v0 = np.array([0,0])\n",
    "\n",
    "# Funksjon for å finne høyde som funksjon av tid\n",
    "def h(t):\n",
    "    return r(t, r0, v0)[1]\n",
    "\n",
    "# Finner tiden det tar før stuperen treffer vannet\n",
    "nullpunkt = opt.fsolve(h, 1)\n",
    "t = nullpunkt[0]\n",
    "print(f\"Antall sekunder det tar før stuperen treffer vannet: {t:.2f}\")\n",
    "print(f\"Da må stuperen ha en fart på minst 1.75 m / {t:.2f} som blir {1.75/t:.2f} m/s\")"
   ]
  },
  {
   "attachments": {},
   "cell_type": "markdown",
   "metadata": {},
   "source": [
    "## Oppgave 4b)"
   ]
  },
  {
   "cell_type": "code",
   "execution_count": 5,
   "metadata": {},
   "outputs": [
    {
     "name": "stdout",
     "output_type": "stream",
     "text": [
      "Simulert fall med verdiene som er oppgitt i oppgaven: \n",
      "Tid: 0.0, høyde: 0.800\n",
      "Tid: 0.1, høyde: 0.751\n",
      "Tid: 0.2, høyde: 0.604\n",
      "Tid: 0.3, høyde: 0.359\n",
      "Tid: 0.4, høyde: 0.015\n",
      "Tid: 0.5, høyde: -0.426\n",
      "Ser at kula lander mellom 0.4 og 0.5 sekunder, og bruker dette til å løse nøyaktig: \n",
      "Kula treffer bakken etter 0.40 sekunder\n"
     ]
    }
   ],
   "source": [
    "r0 = np.array([0, 0.80])\n",
    "v0 = np.array([100, 0])\n",
    "\n",
    "print(\"Simulert fall med verdiene som er oppgitt i oppgaven: \")\n",
    "for t in np.arange(0, 0.6, 0.1):\n",
    "    print(f\"Tid: {t:.1f}, høyde: {h(t):.3f}\")\n",
    "    \n",
    "print(\"Ser at kula lander mellom 0.4 og 0.5 sekunder, og bruker dette til å løse nøyaktig: \")\n",
    "\n",
    "t = opt.fsolve(h, 0.4)[0]\n",
    "print(f\"Kula treffer bakken etter {t:.2f} sekunder\")"
   ]
  },
  {
   "attachments": {},
   "cell_type": "markdown",
   "metadata": {},
   "source": [
    "## Oppgave 4c)"
   ]
  },
  {
   "cell_type": "code",
   "execution_count": 6,
   "metadata": {},
   "outputs": [
    {
     "name": "stdout",
     "output_type": "stream",
     "text": [
      "Simulerer banen til den første kulen: \n",
      "Tid: 0.5, høyde: 0.824\n",
      "Tid: 0.6, høyde: 0.691\n",
      "Tid: 0.6, høyde: 0.534\n",
      "Tid: 0.7, høyde: 0.353\n",
      "Tid: 0.7, høyde: 0.147\n",
      "Tid: 0.8, høyde: -0.084\n",
      "Tid: 0.8, høyde: -0.339\n",
      "Tid: 0.9, høyde: -0.619\n",
      "\n",
      "Ser at kula treffer bakken mellom 0.7 og 0.8 sekunder. Løser mer nøyaktig med fsolve().\n",
      "Kule 1 treffer bakken etter 0.73 sekunder\n",
      "\n",
      "Simulerer banen til den andre kulen: \n",
      "Tid: 0.90, høyde: 0.274\n",
      "Tid: 0.95, høyde: 0.012\n",
      "Tid: 1.00, høyde: -0.275\n",
      "Tid: 1.05, høyde: -0.586\n",
      "Tid: 1.10, høyde: -0.922\n",
      "Tid: 1.15, høyde: -1.282\n",
      "Tid: 1.20, høyde: -1.667\n",
      "Tid: 1.25, høyde: -2.076\n",
      "\n",
      "Ser at kula treffer bakken mellom 0.95 og 1 sekund. Løser mer nøyaktig med fsolve().\n",
      "Kule 2 treffer bakken etter 0.952 sekunder\n",
      "\n",
      "Ser her at kula med lavest utgangsvinkel lander først. Dermed er svaret på oppgaven alternativ B.\n"
     ]
    }
   ],
   "source": [
    "startfart = 5 # Velger en tilfeldig startfart som gjelder for begge kulene\n",
    "alpha_1 = np.deg2rad(30)\n",
    "alpha_2 = np.deg2rad(50)\n",
    "\n",
    "v0_1 = startfart * np.array([np.cos(alpha_1), np.sin(alpha_1)])\n",
    "v0_2 = startfart * np.array([np.cos(alpha_2), np.sin(alpha_2)])\n",
    "\n",
    "# Redefinerer funksjonen så den passer til denne oppgaven\n",
    "def h(t, v0):\n",
    "    return r(t, r0, v0)[1]\n",
    "\n",
    "# Løser for kule 1\n",
    "print(\"Simulerer banen til den første kulen: \")\n",
    "\n",
    "for t in np.arange(0.5, 0.9, 0.05):\n",
    "    print(f\"Tid: {t:.1f}, høyde: {h(t, v0_1):.3f}\")\n",
    "\n",
    "print()\n",
    "print(\"Ser at kula treffer bakken mellom 0.7 og 0.8 sekunder. Løser mer nøyaktig med fsolve().\")\n",
    "t_1 = opt.fsolve(h, 0.7, v0_1)[0]\n",
    "print(f\"Kule 1 treffer bakken etter {t_1:.2f} sekunder\")\n",
    "print()\n",
    "\n",
    "# Løser for kule 2\n",
    "print(\"Simulerer banen til den andre kulen: \")\n",
    "\n",
    "for t in np.arange(0.9, 1.3, 0.05):\n",
    "    print(f\"Tid: {t:.2f}, høyde: {h(t, v0_2):.3f}\")\n",
    "\n",
    "print()\n",
    "print(\"Ser at kula treffer bakken mellom 0.95 og 1 sekund. Løser mer nøyaktig med fsolve().\")\n",
    "t_2 = opt.fsolve(h, 1.0, v0_2)[0]\n",
    "print(f\"Kule 2 treffer bakken etter {t_2:.3f} sekunder\")\n",
    "print()\n",
    "\n",
    "print(\"Ser her at kula med lavest utgangsvinkel lander først. Dermed er svaret på oppgaven alternativ B.\")\n"
   ]
  },
  {
   "attachments": {},
   "cell_type": "markdown",
   "metadata": {},
   "source": [
    "## Oppgave 4d)"
   ]
  },
  {
   "cell_type": "code",
   "execution_count": 10,
   "metadata": {},
   "outputs": [
    {
     "name": "stdout",
     "output_type": "stream",
     "text": [
      "Simulerer kastet med vinkler fra 0 til 90 grader for å se hvilke vinkler som er nære målet\n",
      "Vinkel 0.270 bommer med -0.076 m\n",
      "Vinkel 0.280 bommer med -0.040 m\n",
      "Vinkel 0.290 bommer med -0.004 m\n",
      "Vinkel 0.300 bommer med 0.032 m\n",
      "Vinkel 0.310 bommer med 0.067 m\n",
      "Vinkel 1.160 bommer med 0.084 m\n",
      "Vinkel 1.170 bommer med 0.043 m\n",
      "Vinkel 1.180 bommer med 0.000 m\n",
      "Vinkel 1.190 bommer med -0.043 m\n",
      "Vinkel 1.200 bommer med -0.087 m\n",
      "Ser vi er nærmest ved 0.29 radianer, løser med fsolve(): \n",
      "Vinkel i radianer: 1.18\n",
      "Vinkel i grader: 67.61\n"
     ]
    }
   ],
   "source": [
    "import time\n",
    "\n",
    "startfart = 5.3\n",
    "r0 = np.array([0, 0.21])\n",
    "\n",
    "def t(alpha: float) -> float:\n",
    "    v0 = startfart * np.array([np.cos(alpha), np.sin(alpha)])\n",
    "    t = opt.fsolve(h, 1, (v0))\n",
    "    time.sleep(.1)\n",
    "    return t[0]\n",
    "\n",
    "def x(alpha: float) -> float:\n",
    "    time = t(alpha)\n",
    "    v0 = startfart * np.array([np.cos(alpha), np.sin(alpha)])\n",
    "    return time * v0[0]\n",
    "\n",
    "def err(alpha: float) -> float:\n",
    "    return x(alpha[0]) - 2.1\n",
    "\n",
    "print(\"Simulerer kastet med vinkler fra 0 til 90 grader for å se hvilke vinkler som er nære målet\")\n",
    "for vinkel in np.arange(0, np.pi/2, .01):\n",
    "    e = err([vinkel])\n",
    "    if abs(e) < .1:\n",
    "        print(f\"Vinkel {vinkel:.3f} bommer med {e:.3f} m\")\n",
    "\n",
    "print(\"Ser vi er nærmest ved 0.29 radianer, løser med fsolve(): \")\n",
    "\n",
    "vinkel = opt.fsolve(err, 1.2, xtol=1.0e-3)[0]\n",
    "time.sleep(.1) # Vent på utregning?\n",
    "print(f\"Vinkel i radianer: {vinkel:.2f}\")\n",
    "print(f\"Vinkel i grader: {np.rad2deg(vinkel):.2f}\")"
   ]
  }
 ],
 "metadata": {
  "kernelspec": {
   "display_name": "Python 3",
   "language": "python",
   "name": "python3"
  },
  "language_info": {
   "codemirror_mode": {
    "name": "ipython",
    "version": 3
   },
   "file_extension": ".py",
   "mimetype": "text/x-python",
   "name": "python",
   "nbconvert_exporter": "python",
   "pygments_lexer": "ipython3",
   "version": "3.10.6 (main, Nov 14 2022, 16:10:14) [GCC 11.3.0]"
  },
  "orig_nbformat": 4,
  "vscode": {
   "interpreter": {
    "hash": "916dbcbb3f70747c44a77c7bcd40155683ae19c65e1c03b4aa3499c5328201f1"
   }
  }
 },
 "nbformat": 4,
 "nbformat_minor": 2
}
